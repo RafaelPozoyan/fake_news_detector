{
 "cells": [
  {
   "cell_type": "code",
   "execution_count": 51,
   "id": "86643056",
   "metadata": {},
   "outputs": [],
   "source": [
    "import pandas as pd\n",
    "import numpy as np\n",
    "import re\n",
    "import pickle\n",
    "from sklearn.model_selection import train_test_split\n",
    "from sklearn.feature_extraction.text import TfidfVectorizer\n",
    "from sklearn.linear_model import LogisticRegression\n",
    "from sklearn.naive_bayes import MultinomialNB\n",
    "from sklearn.ensemble import RandomForestClassifier\n",
    "from sklearn.metrics import accuracy_score, classification_report, confusion_matrix, f1_score\n",
    "import matplotlib.pyplot as plt\n",
    "import seaborn as sns\n",
    "import nltk\n",
    "from nltk.corpus import stopwords\n",
    "from gensim.models import KeyedVectors, Word2Vec\n",
    "from pathlib import Path\n",
    "from datetime import datetime\n",
    "from collections import Counter\n",
    "import json\n",
    "from sklearn.model_selection import GridSearchCV"
   ]
  },
  {
   "cell_type": "code",
   "execution_count": 52,
   "id": "94c10da2",
   "metadata": {},
   "outputs": [],
   "source": [
    "plt.rcParams['figure.figsize'] = (14, 6)\n",
    "plt.rcParams['font.size'] = 10\n",
    "sns.set_style('whitegrid')\n",
    "\n",
    "try:\n",
    "    russian_stopwords = stopwords.words('russian')\n",
    "except:\n",
    "    nltk.download('stopwords')\n",
    "    russian_stopwords = stopwords.words('russian')"
   ]
  },
  {
   "cell_type": "code",
   "execution_count": 53,
   "id": "d785f884",
   "metadata": {},
   "outputs": [],
   "source": [
    "train_bodies = pd.read_csv('./data/train_bodies.csv')\n",
    "test_bodies = pd.read_csv('./data/test_bodies.csv')\n",
    "\n",
    "train_stances = pd.read_csv('./data/train_stances.csv')\n",
    "test_stances = pd.read_csv('./data/test_stances_unlebeledb.csv') "
   ]
  },
  {
   "cell_type": "markdown",
   "id": "acdd66e4",
   "metadata": {},
   "source": [
    "# Проведем предобработку данных"
   ]
  },
  {
   "cell_type": "markdown",
   "id": "4ab71a22",
   "metadata": {},
   "source": [
    "## Объединим данные"
   ]
  },
  {
   "cell_type": "code",
   "execution_count": 54,
   "id": "2a41c0a9",
   "metadata": {},
   "outputs": [],
   "source": [
    "train_data = train_stances.merge(train_bodies, on='Body ID', how='left')\n",
    "test_data = test_stances.merge(test_bodies, on='Body ID', how='left')"
   ]
  },
  {
   "cell_type": "markdown",
   "id": "554f76f8",
   "metadata": {},
   "source": [
    "## Проведем предобработку русского языка"
   ]
  },
  {
   "cell_type": "code",
   "execution_count": 55,
   "id": "f20f3305",
   "metadata": {},
   "outputs": [],
   "source": [
    "def preprocess_text(text):\n",
    "    if not isinstance(text, str) or len(text) == 0:\n",
    "        return \"\"\n",
    "    \n",
    "    text = text.lower()\n",
    "    text = re.sub(r'http\\S+|www\\S+|https\\S+', '', text)\n",
    "    text = re.sub(r'\\S+@\\S+', '', text)\n",
    "    text = re.sub(r'<.*?>', '', text)\n",
    "    text = re.sub(r'[^а-яё\\s]', ' ', text)\n",
    "    text = re.sub(r'\\s+', ' ', text).strip()\n",
    "    \n",
    "    words = text.split()\n",
    "    words = [word for word in words if word not in russian_stopwords and len(word) > 2]\n",
    "    \n",
    "    return ' '.join(words)"
   ]
  },
  {
   "cell_type": "markdown",
   "id": "e16b0c91",
   "metadata": {},
   "source": [
    "## Обработка заголовков и текстов"
   ]
  },
  {
   "cell_type": "code",
   "execution_count": 56,
   "id": "04fc37aa",
   "metadata": {},
   "outputs": [],
   "source": [
    "train_data['headline_clean'] = train_data['Headline'].apply(preprocess_text)\n",
    "train_data['body_clean'] = train_data['articleBody'].apply(preprocess_text)\n",
    "\n",
    "test_data['headline_clean'] = test_data['Headline'].apply(preprocess_text)\n",
    "test_data['body_clean'] = test_data['articleBody'].apply(preprocess_text)\n"
   ]
  },
  {
   "cell_type": "markdown",
   "id": "06e0aad4",
   "metadata": {},
   "source": [
    "## Создадим комбинированные признаки (заголовок + начало текста)"
   ]
  },
  {
   "cell_type": "code",
   "execution_count": 57,
   "id": "48b1fa48",
   "metadata": {},
   "outputs": [],
   "source": [
    "def combine_features(row):\n",
    "    headline = row['headline_clean']\n",
    "    body_words = row['body_clean'].split()\n",
    "    body = ' '.join(body_words)\n",
    "    return f\"{headline} {body}\""
   ]
  },
  {
   "cell_type": "code",
   "execution_count": 58,
   "id": "4c20b10c",
   "metadata": {},
   "outputs": [],
   "source": [
    "train_data['combined_text'] = train_data.apply(combine_features, axis=1)\n",
    "test_data['combined_text'] = test_data.apply(combine_features, axis=1)"
   ]
  },
  {
   "cell_type": "code",
   "execution_count": 59,
   "id": "f11d78dc",
   "metadata": {},
   "outputs": [],
   "source": [
    "train_data = train_data[train_data['combined_text'].str.len() > 10].reset_index(drop=True)\n",
    "test_data = test_data[test_data['combined_text'].str.len() > 10].reset_index(drop=True)"
   ]
  },
  {
   "cell_type": "code",
   "execution_count": 60,
   "id": "06992b8a",
   "metadata": {},
   "outputs": [
    {
     "name": "stdout",
     "output_type": "stream",
     "text": [
      "\n",
      "Статистика длины комбинированных текстов (в словах):\n",
      "count    4408.000000\n",
      "mean      136.134528\n",
      "std        69.050534\n",
      "min         9.000000\n",
      "25%       101.000000\n",
      "50%       126.000000\n",
      "75%       153.000000\n",
      "max      1084.000000\n",
      "Name: text_length, dtype: float64\n"
     ]
    }
   ],
   "source": [
    "train_data['text_length'] = train_data['combined_text'].str.split().str.len()\n",
    "print(f\"\\nСтатистика длины комбинированных текстов (в словах):\")\n",
    "print(train_data['text_length'].describe())\n",
    "\n",
    "train_data_tf = train_data"
   ]
  },
  {
   "cell_type": "markdown",
   "id": "409596a0",
   "metadata": {},
   "source": [
    "## Подготовим целевую переменную\n",
    "---\n",
    "где:\n",
    "* Реальная новость - 1\n",
    "* Фейк - 0"
   ]
  },
  {
   "cell_type": "code",
   "execution_count": 61,
   "id": "5192543a",
   "metadata": {},
   "outputs": [
    {
     "data": {
      "text/html": [
       "<div>\n",
       "<style scoped>\n",
       "    .dataframe tbody tr th:only-of-type {\n",
       "        vertical-align: middle;\n",
       "    }\n",
       "\n",
       "    .dataframe tbody tr th {\n",
       "        vertical-align: top;\n",
       "    }\n",
       "\n",
       "    .dataframe thead th {\n",
       "        text-align: right;\n",
       "    }\n",
       "</style>\n",
       "<table border=\"1\" class=\"dataframe\">\n",
       "  <thead>\n",
       "    <tr style=\"text-align: right;\">\n",
       "      <th></th>\n",
       "      <th>Unnamed: 0_x</th>\n",
       "      <th>Body ID</th>\n",
       "      <th>Headline</th>\n",
       "      <th>Stance</th>\n",
       "      <th>Headline1</th>\n",
       "      <th>Headline2</th>\n",
       "      <th>Unnamed: 0_y</th>\n",
       "      <th>articleBody</th>\n",
       "      <th>articleBody1</th>\n",
       "      <th>articleBody2</th>\n",
       "      <th>headline_clean</th>\n",
       "      <th>body_clean</th>\n",
       "      <th>combined_text</th>\n",
       "      <th>text_length</th>\n",
       "      <th>label</th>\n",
       "    </tr>\n",
       "  </thead>\n",
       "  <tbody>\n",
       "    <tr>\n",
       "      <th>0</th>\n",
       "      <td>0</td>\n",
       "      <td>1</td>\n",
       "      <td>['российский', 'бюджет', 'марте', 'недополучил...</td>\n",
       "      <td>agree</td>\n",
       "      <td>российский бюджет в марте недополучил более 30...</td>\n",
       "      <td>российский бюджет март недополучать миллиард р...</td>\n",
       "      <td>0</td>\n",
       "      <td>Разница между ожидаемыми по итогам марта нефте...</td>\n",
       "      <td>разница ожидаемыми итогам марта нефтегазовыми ...</td>\n",
       "      <td>разница ожидать итог март нефтегазовый доход ф...</td>\n",
       "      <td>российский бюджет марте недополучил миллиардов...</td>\n",
       "      <td>разница ожидаемыми итогам марта нефтегазовыми ...</td>\n",
       "      <td>российский бюджет марте недополучил миллиардов...</td>\n",
       "      <td>73</td>\n",
       "      <td>1</td>\n",
       "    </tr>\n",
       "    <tr>\n",
       "      <th>1</th>\n",
       "      <td>1</td>\n",
       "      <td>2</td>\n",
       "      <td>['банк', 'россии', 'решил', 'снизить', 'ключев...</td>\n",
       "      <td>agree</td>\n",
       "      <td>банк россии решил снизить ключевую ставку с 20...</td>\n",
       "      <td>банк россия решать снижать ключевой ставка</td>\n",
       "      <td>1</td>\n",
       "      <td>Совет директоров Банка России решил снизить кл...</td>\n",
       "      <td>совет директоров банка россии решил снизить кл...</td>\n",
       "      <td>совет директор банк россия решать снижать ключ...</td>\n",
       "      <td>банк россии решил снизить ключевую ставку</td>\n",
       "      <td>совет директоров банка россии решил снизить кл...</td>\n",
       "      <td>банк россии решил снизить ключевую ставку сове...</td>\n",
       "      <td>57</td>\n",
       "      <td>1</td>\n",
       "    </tr>\n",
       "    <tr>\n",
       "      <th>2</th>\n",
       "      <td>2</td>\n",
       "      <td>3</td>\n",
       "      <td>['мыс', 'идокопас', 'нато', 'назвали', 'первую...</td>\n",
       "      <td>disagree</td>\n",
       "      <td>мыс идокопас  в нато назвали первую цель для н...</td>\n",
       "      <td>мыс идокопас нато называть первый цель начало ...</td>\n",
       "      <td>2</td>\n",
       "      <td>В НАТО составили наступательный план действий ...</td>\n",
       "      <td>нато составили наступательный план действий за...</td>\n",
       "      <td>нато составлять наступательный план действие з...</td>\n",
       "      <td>мыс идокопас нато назвали первую цель начала п...</td>\n",
       "      <td>нато составили наступательный план действий за...</td>\n",
       "      <td>мыс идокопас нато назвали первую цель начала п...</td>\n",
       "      <td>100</td>\n",
       "      <td>0</td>\n",
       "    </tr>\n",
       "  </tbody>\n",
       "</table>\n",
       "</div>"
      ],
      "text/plain": [
       "   Unnamed: 0_x  Body ID                                           Headline  \\\n",
       "0             0        1  ['российский', 'бюджет', 'марте', 'недополучил...   \n",
       "1             1        2  ['банк', 'россии', 'решил', 'снизить', 'ключев...   \n",
       "2             2        3  ['мыс', 'идокопас', 'нато', 'назвали', 'первую...   \n",
       "\n",
       "     Stance                                          Headline1  \\\n",
       "0     agree  российский бюджет в марте недополучил более 30...   \n",
       "1     agree  банк россии решил снизить ключевую ставку с 20...   \n",
       "2  disagree  мыс идокопас  в нато назвали первую цель для н...   \n",
       "\n",
       "                                           Headline2  Unnamed: 0_y  \\\n",
       "0  российский бюджет март недополучать миллиард р...             0   \n",
       "1         банк россия решать снижать ключевой ставка             1   \n",
       "2  мыс идокопас нато называть первый цель начало ...             2   \n",
       "\n",
       "                                         articleBody  \\\n",
       "0  Разница между ожидаемыми по итогам марта нефте...   \n",
       "1  Совет директоров Банка России решил снизить кл...   \n",
       "2  В НАТО составили наступательный план действий ...   \n",
       "\n",
       "                                        articleBody1  \\\n",
       "0  разница ожидаемыми итогам марта нефтегазовыми ...   \n",
       "1  совет директоров банка россии решил снизить кл...   \n",
       "2  нато составили наступательный план действий за...   \n",
       "\n",
       "                                        articleBody2  \\\n",
       "0  разница ожидать итог март нефтегазовый доход ф...   \n",
       "1  совет директор банк россия решать снижать ключ...   \n",
       "2  нато составлять наступательный план действие з...   \n",
       "\n",
       "                                      headline_clean  \\\n",
       "0  российский бюджет марте недополучил миллиардов...   \n",
       "1          банк россии решил снизить ключевую ставку   \n",
       "2  мыс идокопас нато назвали первую цель начала п...   \n",
       "\n",
       "                                          body_clean  \\\n",
       "0  разница ожидаемыми итогам марта нефтегазовыми ...   \n",
       "1  совет директоров банка россии решил снизить кл...   \n",
       "2  нато составили наступательный план действий за...   \n",
       "\n",
       "                                       combined_text  text_length  label  \n",
       "0  российский бюджет марте недополучил миллиардов...           73      1  \n",
       "1  банк россии решил снизить ключевую ставку сове...           57      1  \n",
       "2  мыс идокопас нато назвали первую цель начала п...          100      0  "
      ]
     },
     "execution_count": 61,
     "metadata": {},
     "output_type": "execute_result"
    }
   ],
   "source": [
    "label_mapping = {'agree': 1, 'disagree': 0}\n",
    "\n",
    "train_data['label'] = train_data['Stance'].map(label_mapping)\n",
    "train_data.head(3)"
   ]
  },
  {
   "cell_type": "code",
   "execution_count": 62,
   "id": "ef3a4fc2",
   "metadata": {},
   "outputs": [
    {
     "data": {
      "text/html": [
       "<div>\n",
       "<style scoped>\n",
       "    .dataframe tbody tr th:only-of-type {\n",
       "        vertical-align: middle;\n",
       "    }\n",
       "\n",
       "    .dataframe tbody tr th {\n",
       "        vertical-align: top;\n",
       "    }\n",
       "\n",
       "    .dataframe thead th {\n",
       "        text-align: right;\n",
       "    }\n",
       "</style>\n",
       "<table border=\"1\" class=\"dataframe\">\n",
       "  <thead>\n",
       "    <tr style=\"text-align: right;\">\n",
       "      <th></th>\n",
       "      <th>Unnamed: 0_x</th>\n",
       "      <th>Body ID</th>\n",
       "      <th>Headline</th>\n",
       "      <th>Stance</th>\n",
       "      <th>Headline1</th>\n",
       "      <th>Headline2</th>\n",
       "      <th>Unnamed: 0_y</th>\n",
       "      <th>articleBody</th>\n",
       "      <th>articleBody1</th>\n",
       "      <th>articleBody2</th>\n",
       "      <th>headline_clean</th>\n",
       "      <th>body_clean</th>\n",
       "      <th>combined_text</th>\n",
       "      <th>text_length</th>\n",
       "      <th>label</th>\n",
       "    </tr>\n",
       "  </thead>\n",
       "  <tbody>\n",
       "    <tr>\n",
       "      <th>0</th>\n",
       "      <td>0</td>\n",
       "      <td>1</td>\n",
       "      <td>['российский', 'бюджет', 'марте', 'недополучил...</td>\n",
       "      <td>agree</td>\n",
       "      <td>российский бюджет в марте недополучил более 30...</td>\n",
       "      <td>российский бюджет март недополучать миллиард р...</td>\n",
       "      <td>0</td>\n",
       "      <td>Разница между ожидаемыми по итогам марта нефте...</td>\n",
       "      <td>разница ожидаемыми итогам марта нефтегазовыми ...</td>\n",
       "      <td>разница ожидать итог март нефтегазовый доход ф...</td>\n",
       "      <td>российский бюджет марте недополучил миллиардов...</td>\n",
       "      <td>разница ожидаемыми итогам марта нефтегазовыми ...</td>\n",
       "      <td>российский бюджет марте недополучил миллиардов...</td>\n",
       "      <td>73</td>\n",
       "      <td>1</td>\n",
       "    </tr>\n",
       "    <tr>\n",
       "      <th>1</th>\n",
       "      <td>1</td>\n",
       "      <td>2</td>\n",
       "      <td>['банк', 'россии', 'решил', 'снизить', 'ключев...</td>\n",
       "      <td>agree</td>\n",
       "      <td>банк россии решил снизить ключевую ставку с 20...</td>\n",
       "      <td>банк россия решать снижать ключевой ставка</td>\n",
       "      <td>1</td>\n",
       "      <td>Совет директоров Банка России решил снизить кл...</td>\n",
       "      <td>совет директоров банка россии решил снизить кл...</td>\n",
       "      <td>совет директор банк россия решать снижать ключ...</td>\n",
       "      <td>банк россии решил снизить ключевую ставку</td>\n",
       "      <td>совет директоров банка россии решил снизить кл...</td>\n",
       "      <td>банк россии решил снизить ключевую ставку сове...</td>\n",
       "      <td>57</td>\n",
       "      <td>1</td>\n",
       "    </tr>\n",
       "    <tr>\n",
       "      <th>2</th>\n",
       "      <td>2</td>\n",
       "      <td>3</td>\n",
       "      <td>['мыс', 'идокопас', 'нато', 'назвали', 'первую...</td>\n",
       "      <td>disagree</td>\n",
       "      <td>мыс идокопас  в нато назвали первую цель для н...</td>\n",
       "      <td>мыс идокопас нато называть первый цель начало ...</td>\n",
       "      <td>2</td>\n",
       "      <td>В НАТО составили наступательный план действий ...</td>\n",
       "      <td>нато составили наступательный план действий за...</td>\n",
       "      <td>нато составлять наступательный план действие з...</td>\n",
       "      <td>мыс идокопас нато назвали первую цель начала п...</td>\n",
       "      <td>нато составили наступательный план действий за...</td>\n",
       "      <td>мыс идокопас нато назвали первую цель начала п...</td>\n",
       "      <td>100</td>\n",
       "      <td>0</td>\n",
       "    </tr>\n",
       "  </tbody>\n",
       "</table>\n",
       "</div>"
      ],
      "text/plain": [
       "   Unnamed: 0_x  Body ID                                           Headline  \\\n",
       "0             0        1  ['российский', 'бюджет', 'марте', 'недополучил...   \n",
       "1             1        2  ['банк', 'россии', 'решил', 'снизить', 'ключев...   \n",
       "2             2        3  ['мыс', 'идокопас', 'нато', 'назвали', 'первую...   \n",
       "\n",
       "     Stance                                          Headline1  \\\n",
       "0     agree  российский бюджет в марте недополучил более 30...   \n",
       "1     agree  банк россии решил снизить ключевую ставку с 20...   \n",
       "2  disagree  мыс идокопас  в нато назвали первую цель для н...   \n",
       "\n",
       "                                           Headline2  Unnamed: 0_y  \\\n",
       "0  российский бюджет март недополучать миллиард р...             0   \n",
       "1         банк россия решать снижать ключевой ставка             1   \n",
       "2  мыс идокопас нато называть первый цель начало ...             2   \n",
       "\n",
       "                                         articleBody  \\\n",
       "0  Разница между ожидаемыми по итогам марта нефте...   \n",
       "1  Совет директоров Банка России решил снизить кл...   \n",
       "2  В НАТО составили наступательный план действий ...   \n",
       "\n",
       "                                        articleBody1  \\\n",
       "0  разница ожидаемыми итогам марта нефтегазовыми ...   \n",
       "1  совет директоров банка россии решил снизить кл...   \n",
       "2  нато составили наступательный план действий за...   \n",
       "\n",
       "                                        articleBody2  \\\n",
       "0  разница ожидать итог март нефтегазовый доход ф...   \n",
       "1  совет директор банк россия решать снижать ключ...   \n",
       "2  нато составлять наступательный план действие з...   \n",
       "\n",
       "                                      headline_clean  \\\n",
       "0  российский бюджет марте недополучил миллиардов...   \n",
       "1          банк россии решил снизить ключевую ставку   \n",
       "2  мыс идокопас нато назвали первую цель начала п...   \n",
       "\n",
       "                                          body_clean  \\\n",
       "0  разница ожидаемыми итогам марта нефтегазовыми ...   \n",
       "1  совет директоров банка россии решил снизить кл...   \n",
       "2  нато составили наступательный план действий за...   \n",
       "\n",
       "                                       combined_text  text_length  label  \n",
       "0  российский бюджет марте недополучил миллиардов...           73      1  \n",
       "1  банк россии решил снизить ключевую ставку сове...           57      1  \n",
       "2  мыс идокопас нато назвали первую цель начала п...          100      0  "
      ]
     },
     "execution_count": 62,
     "metadata": {},
     "output_type": "execute_result"
    }
   ],
   "source": [
    "train_data_tf['label'] = train_data_tf['Stance'].map(label_mapping)\n",
    "train_data_tf.head(3)"
   ]
  },
  {
   "cell_type": "markdown",
   "id": "bee75982",
   "metadata": {},
   "source": [
    "# Word2Vec"
   ]
  },
  {
   "cell_type": "markdown",
   "id": "0c504b3b",
   "metadata": {},
   "source": [
    "## Загрузим эмбеддинги"
   ]
  },
  {
   "cell_type": "code",
   "execution_count": 63,
   "id": "bf5e5cd9",
   "metadata": {},
   "outputs": [],
   "source": [
    "sentences = [text.split() for text in train_data['body_clean']] + [text.split() for text in train_data['headline_clean']]\n",
    "w2v = Word2Vec(sentences, vector_size=300, window=3, min_count=3, sg=1, workers=4, epochs=10)\n",
    "kv = w2v.wv"
   ]
  },
  {
   "cell_type": "markdown",
   "id": "c0c5e408",
   "metadata": {},
   "source": [
    "## Функция для получения усреднённого вектора"
   ]
  },
  {
   "cell_type": "code",
   "execution_count": 64,
   "id": "909d1ad4",
   "metadata": {},
   "outputs": [],
   "source": [
    "def doc_vector(tokens, kv_model):\n",
    "    vecs = [kv_model[w] for w in tokens if w in kv_model]\n",
    "    if not vecs:\n",
    "        return np.zeros(kv_model.vector_size, dtype=np.float32)\n",
    "    return np.vstack(vecs).mean(axis=0)"
   ]
  },
  {
   "cell_type": "markdown",
   "id": "e904aad7",
   "metadata": {},
   "source": [
    "## Соберем признаки: headline_vec, body_vec, косинусная близость"
   ]
  },
  {
   "cell_type": "code",
   "execution_count": 65,
   "id": "cf6b10a2",
   "metadata": {},
   "outputs": [],
   "source": [
    "def cosine(u, v):\n",
    "    nu, nv = np.linalg.norm(u), np.linalg.norm(v)\n",
    "    if nu == 0 or nv == 0:\n",
    "        return 0.0\n",
    "    return float(np.dot(u, v) / (nu * nv))\n",
    "\n",
    "def jaccard(a_tokens, b_tokens):\n",
    "    A, B = set(a_tokens), set(b_tokens)\n",
    "    if not A and not B:\n",
    "        return 0.0\n",
    "    return len(A & B) / max(1, len(A | B))\n",
    "\n",
    "def overlap_ratio(a_tokens, b_tokens):\n",
    "    A, B = set(a_tokens), set(b_tokens)\n",
    "    if not A:\n",
    "        return 0.0\n",
    "    return len(A & B) / len(A)\n",
    "\n",
    "def elementwise_stats(h_vec, b_vec):\n",
    "    diff = np.abs(h_vec - b_vec)              \n",
    "    prod = h_vec * b_vec                      \n",
    "    l2 = np.linalg.norm(h_vec - b_vec)        \n",
    "    return diff, prod, l2\n",
    "\n",
    "def build_features(df, kv, max_len=150):\n",
    "    H, B, COS, JAC, OVR, L2, DIFF, PROD = [], [], [], [], [], [], [], []\n",
    "    for i, row in df.iterrows():\n",
    "        htoks = row['headline_clean'].split()[:max_len]\n",
    "        btoks = row['body_clean'].split()[:max_len]\n",
    "\n",
    "        h_vec = doc_vector(htoks, kv)\n",
    "        b_vec = doc_vector(btoks, kv)\n",
    "\n",
    "        H.append(h_vec); B.append(b_vec)\n",
    "\n",
    "        COS.append(cosine(h_vec, b_vec))\n",
    "        JAC.append(jaccard(htoks, btoks))\n",
    "        OVR.append(overlap_ratio(htoks, btoks))\n",
    "\n",
    "        diff, prod, l2 = elementwise_stats(h_vec, b_vec)\n",
    "        DIFF.append(diff); PROD.append(prod); L2.append(l2)\n",
    "\n",
    "    H = np.vstack(H); B = np.vstack(B)\n",
    "    COS = np.array(COS).reshape(-1, 1)\n",
    "    JAC = np.array(JAC).reshape(-1, 1)\n",
    "    OVR = np.array(OVR).reshape(-1, 1)\n",
    "    L2  = np.array(L2).reshape(-1, 1)\n",
    "    DIFF = np.vstack(DIFF)     # размер N, d\n",
    "    PROD = np.vstack(PROD)     # размер N, d\n",
    "\n",
    "    X = np.hstack([H, B, DIFF, PROD, COS, JAC, OVR, L2])\n",
    "    return X"
   ]
  },
  {
   "cell_type": "markdown",
   "id": "2fae6c0a",
   "metadata": {},
   "source": [
    "## Подготовка X и y"
   ]
  },
  {
   "cell_type": "code",
   "execution_count": 66,
   "id": "54168b27",
   "metadata": {},
   "outputs": [],
   "source": [
    "X = build_features(train_data, kv)\n",
    "y = train_data['label'].values"
   ]
  },
  {
   "cell_type": "markdown",
   "id": "f35570ba",
   "metadata": {},
   "source": [
    "## Разделим"
   ]
  },
  {
   "cell_type": "code",
   "execution_count": 67,
   "id": "3ad28848",
   "metadata": {},
   "outputs": [],
   "source": [
    "X_train, X_val, y_train, y_val = train_test_split(\n",
    "    X, y, test_size=0.2, random_state=42, stratify=y\n",
    ")"
   ]
  },
  {
   "cell_type": "markdown",
   "id": "0aacad61",
   "metadata": {},
   "source": [
    "## Обучим модель логистической регрессии и рандомного леса. Прогоним по метрикам"
   ]
  },
  {
   "cell_type": "code",
   "execution_count": 68,
   "id": "7092b2c9",
   "metadata": {},
   "outputs": [],
   "source": [
    "models = {\n",
    "    'LogisticRegression': LogisticRegression(random_state=42),\n",
    "    'RandomForest': RandomForestClassifier(random_state=42, n_jobs=-1)\n",
    "}\n",
    "\n",
    "Path(\"models\").mkdir(parents=True, exist_ok=True)"
   ]
  },
  {
   "cell_type": "code",
   "execution_count": 69,
   "id": "29dc2676",
   "metadata": {},
   "outputs": [],
   "source": [
    "param_grids = {\n",
    "    'LogisticRegression': {\n",
    "        'C': [0.1, 0.5, 1, 2, 5],\n",
    "        'solver': ['liblinear', 'lbfgs'],\n",
    "        'max_iter': [500, 1000, 2000],\n",
    "        'class_weight': ['balanced', None]\n",
    "    },\n",
    "    'RandomForest': {\n",
    "        'n_estimators': [100, 200, 300],\n",
    "        'max_depth': [10, 20, 30, None],\n",
    "        'min_samples_split': [2, 5, 10],\n",
    "        'class_weight': ['balanced']\n",
    "    }\n",
    "}"
   ]
  },
  {
   "cell_type": "code",
   "execution_count": 70,
   "id": "6a33a8aa",
   "metadata": {},
   "outputs": [
    {
     "name": "stdout",
     "output_type": "stream",
     "text": [
      "\n",
      "--- LogisticRegression: подбор гиперпараметров ---\n",
      "Fitting 3 folds for each of 60 candidates, totalling 180 fits\n",
      "Лучшие параметры: {'C': 5, 'class_weight': 'balanced', 'max_iter': 500, 'solver': 'lbfgs'}\n",
      "Train Accuracy: 0.9546\n",
      "Val Accuracy:   0.9127\n",
      "Val F1-Score:   0.9127\n",
      "\n",
      "Classification Report:\n",
      "                  precision    recall  f1-score   support\n",
      "\n",
      " Фейк (disagree)     0.9124    0.9144    0.9134       444\n",
      "Реальная (agree)     0.9130    0.9110    0.9120       438\n",
      "\n",
      "        accuracy                         0.9127       882\n",
      "       macro avg     0.9127    0.9127    0.9127       882\n",
      "    weighted avg     0.9127    0.9127    0.9127       882\n",
      "\n",
      "\n",
      "--- RandomForest: подбор гиперпараметров ---\n",
      "Fitting 3 folds for each of 36 candidates, totalling 108 fits\n",
      "Лучшие параметры: {'class_weight': 'balanced', 'max_depth': 30, 'min_samples_split': 10, 'n_estimators': 300}\n",
      "Train Accuracy: 0.9980\n",
      "Val Accuracy:   0.9240\n",
      "Val F1-Score:   0.9240\n",
      "\n",
      "Classification Report:\n",
      "                  precision    recall  f1-score   support\n",
      "\n",
      " Фейк (disagree)     0.9415    0.9054    0.9231       444\n",
      "Реальная (agree)     0.9077    0.9429    0.9250       438\n",
      "\n",
      "        accuracy                         0.9240       882\n",
      "       macro avg     0.9246    0.9242    0.9240       882\n",
      "    weighted avg     0.9247    0.9240    0.9240       882\n",
      "\n"
     ]
    }
   ],
   "source": [
    "results = {}\n",
    "metrics_dict = {}\n",
    "\n",
    "for name, model in models.items():\n",
    "    print(f\"\\n--- {name}: подбор гиперпараметров ---\")\n",
    "\n",
    "    grid = GridSearchCV(model, param_grids[name], cv=3,\n",
    "                        scoring='f1_weighted', n_jobs=-1, verbose=1)\n",
    "    grid.fit(X_train, y_train)\n",
    "\n",
    "    best_model = grid.best_estimator_\n",
    "\n",
    "    # Предсказания\n",
    "    y_train_pred = best_model.predict(X_train)\n",
    "    y_val_pred = best_model.predict(X_val)\n",
    "\n",
    "    # Метрики\n",
    "    train_acc = accuracy_score(y_train, y_train_pred)\n",
    "    val_acc = accuracy_score(y_val, y_val_pred)\n",
    "    val_f1 = f1_score(y_val, y_val_pred, average='weighted')\n",
    "\n",
    "    print(f\"Лучшие параметры: {grid.best_params_}\")\n",
    "    print(f\"Train Accuracy: {train_acc:.4f}\")\n",
    "    print(f\"Val Accuracy:   {val_acc:.4f}\")\n",
    "    print(f\"Val F1-Score:   {val_f1:.4f}\")\n",
    "    print(\"\\nClassification Report:\")\n",
    "    print(classification_report(y_val, y_val_pred,\n",
    "                                target_names=['Фейк (disagree)', 'Реальная (agree)'],\n",
    "                                digits=4))\n",
    "\n",
    "    # Сохранение модели\n",
    "    model_name = name.lower().replace(\" \", \"_\")\n",
    "    with open(f\"models/{model_name}_best_model.pkl\", \"wb\") as f:\n",
    "        pickle.dump(best_model, f)\n",
    "\n",
    "    results[name] = {\n",
    "        'best_params': grid.best_params_,\n",
    "        'train_acc': train_acc,\n",
    "        'val_acc': val_acc,\n",
    "        'val_f1': val_f1\n",
    "    }\n",
    "\n",
    "    metrics_dict[model_name] = {\n",
    "        \"val_accuracy\": val_acc,\n",
    "        \"val_f1\": val_f1,\n",
    "        \"best_params\": grid.best_params_\n",
    "    }\n",
    "\n",
    "Path(\"results/metrics\").mkdir(parents=True, exist_ok=True)\n",
    "with open(\"results/metrics/metrics_w2v.json\", \"w\", encoding=\"utf-8\") as f:\n",
    "    json.dump(metrics_dict, f, ensure_ascii=False, indent=4)\n",
    "\n",
    "# Эмбеддинги\n",
    "kv.save(\"models/w2v_vectors.kv\")"
   ]
  },
  {
   "cell_type": "code",
   "execution_count": 71,
   "id": "ed85a25e",
   "metadata": {},
   "outputs": [
    {
     "data": {
      "image/png": "[encoded data removed]",
      "text/plain": [
       "<Figure size 1600x1200 with 1 Axes>"
      ]
     },
     "metadata": {},
     "output_type": "display_data"
    }
   ],
   "source": [
    "fig, ax = plt.subplots(1, 1, figsize=(16, 12))\n",
    "\n",
    "model_names = list(results.keys())\n",
    "train_accs = [results[name]['train_acc'] for name in model_names]\n",
    "val_accs = [results[name]['val_acc'] for name in model_names]\n",
    "\n",
    "x = np.arange(len(model_names))\n",
    "width = 0.35\n",
    "\n",
    "ax.bar(x - width/2, train_accs, width, label='Train', alpha=0.8, color='skyblue')\n",
    "ax.bar(x + width/2, val_accs, width, label='Validation', alpha=0.8, color='coral')\n",
    "ax.set_xlabel('Модель')\n",
    "ax.set_ylabel('Accuracy')\n",
    "ax.set_title('Сравнение точности моделей', fontweight='bold')\n",
    "ax.set_xticks(x)\n",
    "ax.set_xticklabels(model_names, rotation=15, ha='right')\n",
    "ax.legend()\n",
    "ax.grid(axis='y', alpha=0.3)\n",
    "\n",
    "plt.tight_layout()\n",
    "plt.savefig('./assets/models_scores_w2v.png', dpi=300)"
   ]
  },
  {
   "cell_type": "markdown",
   "id": "c3db76e4",
   "metadata": {},
   "source": [
    "## Сохраним модель, эмбеддинги и метаданные"
   ]
  },
  {
   "cell_type": "markdown",
   "id": "9a7fd268",
   "metadata": {},
   "source": [
    "# TF-IDF"
   ]
  },
  {
   "cell_type": "markdown",
   "id": "68776a02",
   "metadata": {},
   "source": [
    "## Разделим данные"
   ]
  },
  {
   "cell_type": "code",
   "execution_count": 72,
   "id": "c89d54a4",
   "metadata": {},
   "outputs": [],
   "source": [
    "X = train_data_tf['combined_text']\n",
    "y = train_data_tf['label']\n",
    "\n",
    "X_train, X_val, y_train, y_val = train_test_split(\n",
    "    X, y, test_size=0.2, random_state=42, stratify=y\n",
    ")"
   ]
  },
  {
   "cell_type": "code",
   "execution_count": 73,
   "id": "bd8f5d20",
   "metadata": {},
   "outputs": [
    {
     "name": "stdout",
     "output_type": "stream",
     "text": [
      "\n",
      "Распределение классов в train:\n",
      "label\n",
      "0    1777\n",
      "1    1749\n",
      "Name: count, dtype: int64\n",
      "\n",
      "Распределение классов в validation:\n",
      "label\n",
      "0    444\n",
      "1    438\n",
      "Name: count, dtype: int64\n"
     ]
    }
   ],
   "source": [
    "print(f\"\\nРаспределение классов в train:\")\n",
    "print(y_train.value_counts())\n",
    "print(f\"\\nРаспределение классов в validation:\")\n",
    "print(y_val.value_counts())"
   ]
  },
  {
   "cell_type": "markdown",
   "id": "e72c613e",
   "metadata": {},
   "source": [
    "## Векторизация"
   ]
  },
  {
   "cell_type": "code",
   "execution_count": 74,
   "id": "e5c50745",
   "metadata": {},
   "outputs": [
    {
     "name": "stdout",
     "output_type": "stream",
     "text": [
      "✓ Размерность векторов: 8000 признаков\n",
      "✓ Разреженность: 98.97%\n"
     ]
    }
   ],
   "source": [
    "vectorizer = TfidfVectorizer(\n",
    "    max_features=8000,\n",
    "    ngram_range=(1, 2),  \n",
    "    min_df=3,\n",
    "    max_df=0.85,\n",
    "    sublinear_tf=True\n",
    ")\n",
    "\n",
    "X_train_vec = vectorizer.fit_transform(X_train)\n",
    "X_val_vec = vectorizer.transform(X_val)\n",
    "\n",
    "print(f\"✓ Размерность векторов: {X_train_vec.shape[1]} признаков\")\n",
    "print(f\"✓ Разреженность: {(1 - X_train_vec.nnz / (X_train_vec.shape[0] * X_train_vec.shape[1])) * 100:.2f}%\")"
   ]
  },
  {
   "cell_type": "markdown",
   "id": "ac0fc8e5",
   "metadata": {},
   "source": [
    "## Обучим 3 модели и в последствии выберем лучшую\n",
    "---\n",
    "* Logistic Regression\n",
    "* Naive Bayes\n",
    "* Random Forest"
   ]
  },
  {
   "cell_type": "code",
   "execution_count": 81,
   "id": "b45c8276",
   "metadata": {},
   "outputs": [],
   "source": [
    "models = {\n",
    "    'Logistic Regression': LogisticRegression(random_state=42),\n",
    "    'Naive Bayes': MultinomialNB(),\n",
    "    'Random Forest': RandomForestClassifier(random_state=42, n_jobs=-1)\n",
    "}"
   ]
  },
  {
   "cell_type": "code",
   "execution_count": 82,
   "id": "05fb8960",
   "metadata": {},
   "outputs": [],
   "source": [
    "param_grids = {\n",
    "    'Logistic Regression': {\n",
    "        'C': [0.1, 0.5, 1, 2, 5],\n",
    "        'solver': ['liblinear', 'lbfgs'],\n",
    "        'max_iter': [500, 1000, 2000],\n",
    "        'class_weight': ['balanced', None]\n",
    "    },\n",
    "    'Naive Bayes': {\n",
    "        'alpha': [0.01, 0.1, 0.5, 1.0]\n",
    "    },\n",
    "    'Random Forest': {\n",
    "        'n_estimators': [100, 200, 300],\n",
    "        'max_depth': [10, 20, 30, None],\n",
    "        'min_samples_split': [2, 5, 10],\n",
    "        'class_weight': ['balanced']\n",
    "    }\n",
    "}"
   ]
  },
  {
   "cell_type": "code",
   "execution_count": 83,
   "id": "26487cbd",
   "metadata": {},
   "outputs": [
    {
     "name": "stdout",
     "output_type": "stream",
     "text": [
      "\n",
      "--- Logistic Regression: подбор гиперпараметров ---\n",
      "Fitting 3 folds for each of 60 candidates, totalling 180 fits\n",
      "Лучшие параметры: {'C': 5, 'class_weight': 'balanced', 'max_iter': 500, 'solver': 'lbfgs'}\n",
      "Train Accuracy: 0.9983\n",
      "Val Accuracy:   0.9603\n",
      "Val F1-Score:   0.9603\n",
      "\n",
      "Classification Report:\n",
      "                  precision    recall  f1-score   support\n",
      "\n",
      " Фейк (disagree)     0.9455    0.9775    0.9612       444\n",
      "Реальная (agree)     0.9764    0.9429    0.9593       438\n",
      "\n",
      "        accuracy                         0.9603       882\n",
      "       macro avg     0.9609    0.9602    0.9603       882\n",
      "    weighted avg     0.9608    0.9603    0.9603       882\n",
      "\n",
      "\n",
      "--- Naive Bayes: подбор гиперпараметров ---\n",
      "Fitting 3 folds for each of 4 candidates, totalling 12 fits\n",
      "Лучшие параметры: {'alpha': 1.0}\n",
      "Train Accuracy: 0.9606\n",
      "Val Accuracy:   0.9365\n",
      "Val F1-Score:   0.9364\n",
      "\n",
      "Classification Report:\n",
      "                  precision    recall  f1-score   support\n",
      "\n",
      " Фейк (disagree)     0.9145    0.9640    0.9386       444\n",
      "Реальная (agree)     0.9614    0.9087    0.9343       438\n",
      "\n",
      "        accuracy                         0.9365       882\n",
      "       macro avg     0.9379    0.9363    0.9364       882\n",
      "    weighted avg     0.9378    0.9365    0.9364       882\n",
      "\n",
      "\n",
      "--- Random Forest: подбор гиперпараметров ---\n",
      "Fitting 3 folds for each of 36 candidates, totalling 108 fits\n",
      "Лучшие параметры: {'class_weight': 'balanced', 'max_depth': None, 'min_samples_split': 2, 'n_estimators': 300}\n",
      "Train Accuracy: 1.0000\n",
      "Val Accuracy:   0.9410\n",
      "Val F1-Score:   0.9410\n",
      "\n",
      "Classification Report:\n",
      "                  precision    recall  f1-score   support\n",
      "\n",
      " Фейк (disagree)     0.9395    0.9437    0.9416       444\n",
      "Реальная (agree)     0.9427    0.9384    0.9405       438\n",
      "\n",
      "        accuracy                         0.9410       882\n",
      "       macro avg     0.9411    0.9410    0.9410       882\n",
      "    weighted avg     0.9411    0.9410    0.9410       882\n",
      "\n"
     ]
    }
   ],
   "source": [
    "results = {}\n",
    "metrics_dict = {}\n",
    "\n",
    "# Цикл по моделям с подбором гиперпараметров\n",
    "for name, model in models.items():\n",
    "    print(f\"\\n--- {name}: подбор гиперпараметров ---\")\n",
    "\n",
    "    grid = GridSearchCV(model, param_grids[name],\n",
    "                        cv=3, scoring='f1_weighted',\n",
    "                        n_jobs=-1, verbose=1)\n",
    "    grid.fit(X_train_vec, y_train)\n",
    "\n",
    "    best_model = grid.best_estimator_\n",
    "\n",
    "    # Предсказания\n",
    "    y_train_pred = best_model.predict(X_train_vec)\n",
    "    y_val_pred = best_model.predict(X_val_vec)\n",
    "\n",
    "    # Метрики\n",
    "    train_acc = accuracy_score(y_train, y_train_pred)\n",
    "    val_acc = accuracy_score(y_val, y_val_pred)\n",
    "    val_f1 = f1_score(y_val, y_val_pred, average='weighted')\n",
    "\n",
    "    print(f\"Лучшие параметры: {grid.best_params_}\")\n",
    "    print(f\"Train Accuracy: {train_acc:.4f}\")\n",
    "    print(f\"Val Accuracy:   {val_acc:.4f}\")\n",
    "    print(f\"Val F1-Score:   {val_f1:.4f}\")\n",
    "    print(\"\\nClassification Report:\")\n",
    "    print(classification_report(\n",
    "        y_val, y_val_pred,\n",
    "        target_names=['Фейк (disagree)', 'Реальная (agree)'],\n",
    "        digits=4\n",
    "    ))\n",
    "\n",
    "    # Сохраняем результаты и модели\n",
    "    model_name = name.lower().replace(\" \", \"_\")\n",
    "    results[name] = {\n",
    "        'best_params': grid.best_params_,\n",
    "        'train_acc': train_acc,\n",
    "        'val_acc': val_acc,\n",
    "        'val_f1': val_f1\n",
    "    }\n",
    "    metrics_dict[model_name] = {\n",
    "        \"val_accuracy\": val_acc,\n",
    "        \"val_f1\": val_f1,\n",
    "        \"best_params\": grid.best_params_\n",
    "    }"
   ]
  },
  {
   "cell_type": "markdown",
   "id": "2a9ef495",
   "metadata": {},
   "source": [
    "## Проверим на метриках"
   ]
  },
  {
   "cell_type": "code",
   "execution_count": 84,
   "id": "096a83da",
   "metadata": {},
   "outputs": [
    {
     "data": {
      "image/png": "[encoded data removed]",
      "text/plain": [
       "<Figure size 1600x1200 with 1 Axes>"
      ]
     },
     "metadata": {},
     "output_type": "display_data"
    }
   ],
   "source": [
    "fig, ax = plt.subplots(1, 1, figsize=(16, 12))\n",
    "\n",
    "model_names = list(results.keys())\n",
    "train_accs = [results[name]['train_acc'] for name in model_names]\n",
    "val_accs = [results[name]['val_acc'] for name in model_names]\n",
    "\n",
    "x = np.arange(len(model_names))\n",
    "width = 0.35\n",
    "\n",
    "ax.bar(x - width/2, train_accs, width, label='Train', alpha=0.8, color='skyblue')\n",
    "ax.bar(x + width/2, val_accs, width, label='Validation', alpha=0.8, color='coral')\n",
    "ax.set_xlabel('Модель')\n",
    "ax.set_ylabel('Accuracy')\n",
    "ax.set_title('Сравнение точности моделей', fontweight='bold')\n",
    "ax.set_xticks(x)\n",
    "ax.set_xticklabels(model_names, rotation=15, ha='right')\n",
    "ax.legend()\n",
    "ax.grid(axis='y', alpha=0.3)\n",
    "\n",
    "plt.tight_layout()\n",
    "plt.savefig('./assets/models_scores.png', dpi=300)\n"
   ]
  },
  {
   "cell_type": "code",
   "execution_count": 85,
   "id": "25849f71",
   "metadata": {},
   "outputs": [
    {
     "data": {
      "image/png": "[encoded data removed]",
      "text/plain": [
       "<Figure size 1600x1200 with 1 Axes>"
      ]
     },
     "metadata": {},
     "output_type": "display_data"
    }
   ],
   "source": [
    "fig, ax = plt.subplots(1, 1, figsize=(16, 12))\n",
    "\n",
    "ax.hist(\n",
    "    [train_data_tf[train_data_tf['label']==0]['text_length'],\n",
    "     train_data_tf[train_data_tf['label']==1]['text_length']],\n",
    "    bins=30, label=['Фейк', 'Реальная'], alpha=0.7, color=['red', 'green']\n",
    ")\n",
    "ax.set_xlabel('Длина текста (слов)')\n",
    "ax.set_ylabel('Частота')\n",
    "ax.set_title('Распределение длины текстов', fontweight='bold')\n",
    "ax.legend()\n",
    "ax.grid(axis='y', alpha=0.3)\n",
    "\n",
    "plt.tight_layout()\n",
    "plt.savefig('./assets/text_lenght.png', dpi=300)"
   ]
  },
  {
   "cell_type": "markdown",
   "id": "d6f8b76d",
   "metadata": {},
   "source": [
    "## Сохраним модели"
   ]
  },
  {
   "cell_type": "code",
   "execution_count": 86,
   "id": "ee333cb7",
   "metadata": {},
   "outputs": [
    {
     "ename": "KeyError",
     "evalue": "'model'",
     "output_type": "error",
     "traceback": [
      "\u001b[31m---------------------------------------------------------------------------\u001b[39m",
      "\u001b[31mKeyError\u001b[39m                                  Traceback (most recent call last)",
      "\u001b[36mCell\u001b[39m\u001b[36m \u001b[39m\u001b[32mIn[86]\u001b[39m\u001b[32m, line 2\u001b[39m\n\u001b[32m      1\u001b[39m \u001b[38;5;28;01mfor\u001b[39;00m name, info \u001b[38;5;129;01min\u001b[39;00m results.items():\n\u001b[32m----> \u001b[39m\u001b[32m2\u001b[39m     model = \u001b[43minfo\u001b[49m\u001b[43m[\u001b[49m\u001b[33;43m'\u001b[39;49m\u001b[33;43mmodel\u001b[39;49m\u001b[33;43m'\u001b[39;49m\u001b[43m]\u001b[49m\n\u001b[32m      3\u001b[39m     filename = \u001b[33mf\u001b[39m\u001b[33m'\u001b[39m\u001b[33m./models/\u001b[39m\u001b[38;5;132;01m{\u001b[39;00mname\u001b[38;5;132;01m}\u001b[39;00m\u001b[33m_model_tf.pkl\u001b[39m\u001b[33m'\u001b[39m\n\u001b[32m      4\u001b[39m     \u001b[38;5;28;01mwith\u001b[39;00m \u001b[38;5;28mopen\u001b[39m(filename, \u001b[33m'\u001b[39m\u001b[33mwb\u001b[39m\u001b[33m'\u001b[39m) \u001b[38;5;28;01mas\u001b[39;00m f:\n",
      "\u001b[31mKeyError\u001b[39m: 'model'"
     ]
    }
   ],
   "source": [
    "for name, info in results.items():\n",
    "    model = info['model']\n",
    "    filename = f'./models/{name}_model_tf.pkl'\n",
    "    with open(filename, 'wb') as f:\n",
    "        pickle.dump(model, f)\n",
    "    print(f\"Модель {name} сохранена в {filename}\")\n",
    "\n",
    "# Также сохраняем векторизатор и лейблы (общие для всех моделей)\n",
    "with open('./models/tfidf_vectorizer_tf.pkl', 'wb') as f:\n",
    "    pickle.dump(vectorizer, f)\n",
    "\n",
    "with open('./models/label_mapping_tf.pkl', 'wb') as f:\n",
    "    pickle.dump(label_mapping, f)\n"
   ]
  },
  {
   "cell_type": "code",
   "execution_count": 87,
   "id": "c7d148a6",
   "metadata": {},
   "outputs": [
    {
     "name": "stdout",
     "output_type": "stream",
     "text": [
      "Метрики сохранены в results/metrics/metrics.json\n"
     ]
    }
   ],
   "source": [
    "from pathlib import Path\n",
    "\n",
    "# Формируем словарь метрик\n",
    "metrics = {\n",
    "    model_name: {\n",
    "        \"val_acc\": results[model_name][\"val_acc\"]\n",
    "    }\n",
    "    for model_name in results\n",
    "}\n",
    "\n",
    "# Создаём каталог, если его нет\n",
    "Path(\"results/metrics\").mkdir(parents=True, exist_ok=True)\n",
    "\n",
    "# Сохраняем метрики в JSON\n",
    "with open(\"results/metrics/metrics.json\", \"w\", encoding=\"utf-8\") as f:\n",
    "    json.dump(metrics, f, ensure_ascii=False, indent=2)\n",
    "\n",
    "print(\"Метрики сохранены в results/metrics/metrics.json\")\n"
   ]
  },
  {
   "cell_type": "code",
   "execution_count": null,
   "id": "778d2eef",
   "metadata": {},
   "outputs": [],
   "source": []
  }
 ],
 "metadata": {
  "kernelspec": {
   "display_name": ".venv",
   "language": "python",
   "name": "python3"
  },
  "language_info": {
   "codemirror_mode": {
    "name": "ipython",
    "version": 3
   },
   "file_extension": ".py",
   "mimetype": "text/x-python",
   "name": "python",
   "nbconvert_exporter": "python",
   "pygments_lexer": "ipython3",
   "version": "3.12.1"
  }
 },
 "nbformat": 4,
 "nbformat_minor": 5
}
